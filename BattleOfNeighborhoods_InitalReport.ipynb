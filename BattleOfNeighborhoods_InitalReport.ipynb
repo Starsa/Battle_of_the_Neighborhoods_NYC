{
  "nbformat": 4,
  "nbformat_minor": 0,
  "metadata": {
    "colab": {
      "name": "BattleOfNeighborhoods-InitalReport.ipynb",
      "provenance": [],
      "authorship_tag": "ABX9TyMe/AJR8kHdl+vxBdWIYz7u",
      "include_colab_link": true
    },
    "kernelspec": {
      "name": "python3",
      "display_name": "Python 3"
    },
    "language_info": {
      "name": "python"
    }
  },
  "cells": [
    {
      "cell_type": "markdown",
      "metadata": {
        "id": "view-in-github",
        "colab_type": "text"
      },
      "source": [
        "<a href=\"https://colab.research.google.com/github/Starsa/Battle_of_the_Neighborhoods_NYC/blob/main/BattleOfNeighborhoods_InitalReport.ipynb\" target=\"_parent\"><img src=\"https://colab.research.google.com/assets/colab-badge.svg\" alt=\"Open In Colab\"/></a>"
      ]
    },
    {
      "cell_type": "markdown",
      "metadata": {
        "id": "C-Rm-HM3_AYq"
      },
      "source": [
        "# Capstone Project- The Battle of the Nighborhoods (NYC)\n",
        "### Finding the best place to open a Mexican Food restaurant in NYC.\n",
        "\n",
        "**July 2021**\n",
        "\n",
        "**Sara Jacobi**\n",
        "\n",
        "\n",
        "**FINAL PROJECT REQUIRMENTS**\n",
        "_Now that you have been equipped with the skills and the tools to use location data to explore a geographical location, over the course of two weeks, you will have the opportunity to be as creative as you want and come up with an idea to leverage the Foursquare location data to explore or compare neighborhoods or cities of your choice or to come up with a problem that you can use the Foursquare location data to solve._\n",
        "\n",
        "**1) Introduction/Business Problem**\n",
        "\n",
        "*Clearly define a problem or an idea of your choice, where you would need to leverage the Foursquare location data to solve or execute. Remember that data science problems always target an audience and are meant to help a group of stakeholders solve a problem, so make sure that you explicitly describe your audience and why they would care about your problem.*\n",
        "\n",
        "> As a Natice Texan that loves breakfast tacos, there is notably no place in NYC that makes and/or sells breakfast tacos. Although there are locations for decent traditional Mexican food, the Breakfast taco, a popular favotrite among Texan's is an opportunity for inexpensive, quality breakfast foods in NYC. The location needs to have commuters and or office dwellers or a tourist spot for breakfast options that are inexpensive, tasty and able to grab and go. \n",
        "\n",
        "2) Data Preperation\n",
        "*Describe the data that you will be using to solve the problem or execute your idea. Remember that you will need to use the Foursquare location data to solve the problem or execute your idea. You can absolutely use other datasets in combination with the Foursquare location data. So make sure that you provide adequate explanation and discussion, with examples, of the data that you will be using, even if it is only Foursquare location data.*\n",
        "> We will be using the Foursquare Data including venue locations and trending data to identify locations to open our Taco Shop. In addition to the Foursquare API, we will be using a list of NYC Boroughs.\n",
        "\n",
        "\n",
        "\n",
        "3) Methodology\n",
        "*Methodology section which represents the main component of the report where you discuss and describe any exploratory data analysis that you did, any inferential statistical testing that you performed, and what machine learnings were used and why.*\n",
        "> We will explore the data using EDA techniques to identify  locations and analyze our data more thoroughly using visualizations. Then, we will conduct cluster analysis to classify the boroughs into different levels of preference.\n",
        "\n"
      ]
    },
    {
      "cell_type": "code",
      "metadata": {
        "id": "MuvCX1y4-8Fl"
      },
      "source": [
        ""
      ],
      "execution_count": null,
      "outputs": []
    }
  ]
}